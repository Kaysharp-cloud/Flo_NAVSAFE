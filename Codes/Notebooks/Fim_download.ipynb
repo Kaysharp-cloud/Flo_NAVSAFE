{
 "cells": [
  {
   "cell_type": "code",
   "execution_count": 1,
   "id": "c2fa0b7b-7063-4841-840c-ca17ebe62d42",
   "metadata": {},
   "outputs": [],
   "source": [
    "#Importing fimserve and other necessary libraries\n",
    "\n",
    "import fimserve as fm\n",
    "import pandas as pd    "
   ]
  },
  {
   "cell_type": "code",
   "execution_count": 2,
   "id": "32fccfe8-cc22-4c9f-9f79-7ba81f00a740",
   "metadata": {},
   "outputs": [
    {
     "data": {
      "text/html": [
       "\n",
       "            <style>\n",
       "                .geemap-dark {\n",
       "                    --jp-widgets-color: white;\n",
       "                    --jp-widgets-label-color: white;\n",
       "                    --jp-ui-font-color1: white;\n",
       "                    --jp-layout-color2: #454545;\n",
       "                    background-color: #383838;\n",
       "                }\n",
       "\n",
       "                .geemap-dark .jupyter-button {\n",
       "                    --jp-layout-color3: #383838;\n",
       "                }\n",
       "\n",
       "                .geemap-colab {\n",
       "                    background-color: var(--colab-primary-surface-color, white);\n",
       "                }\n",
       "\n",
       "                .geemap-colab .jupyter-button {\n",
       "                    --jp-layout-color3: var(--colab-primary-surface-color, white);\n",
       "                }\n",
       "            </style>\n",
       "            "
      ],
      "text/plain": [
       "<IPython.core.display.HTML object>"
      ]
     },
     "metadata": {},
     "output_type": "display_data"
    }
   ],
   "source": [
    "huc_list = [\"12070205\",\"12090205\",\"12090206\",\"12090301\",\"12100203\"]"
   ]
  },
  {
   "cell_type": "code",
   "execution_count": 3,
   "id": "0bcdff69-f6ce-495c-93f0-2409312bbb25",
   "metadata": {},
   "outputs": [
    {
     "data": {
      "text/html": [
       "\n",
       "            <style>\n",
       "                .geemap-dark {\n",
       "                    --jp-widgets-color: white;\n",
       "                    --jp-widgets-label-color: white;\n",
       "                    --jp-ui-font-color1: white;\n",
       "                    --jp-layout-color2: #454545;\n",
       "                    background-color: #383838;\n",
       "                }\n",
       "\n",
       "                .geemap-dark .jupyter-button {\n",
       "                    --jp-layout-color3: #383838;\n",
       "                }\n",
       "\n",
       "                .geemap-colab {\n",
       "                    background-color: var(--colab-primary-surface-color, white);\n",
       "                }\n",
       "\n",
       "                .geemap-colab .jupyter-button {\n",
       "                    --jp-layout-color3: var(--colab-primary-surface-color, white);\n",
       "                }\n",
       "            </style>\n",
       "            "
      ],
      "text/plain": [
       "<IPython.core.display.HTML object>"
      ]
     },
     "metadata": {},
     "output_type": "display_data"
    },
    {
     "name": "stdout",
     "output_type": "stream",
     "text": [
      "Repository already exists at C:\\Users\\adeba\\OneDrive\\Documents\\Datascience\\Hydrology\\Jupyter_lab\\Water_institute\\CIROH-DEVCON-2025\\CIROH-DEVCON\\CIROH-DEVCON\\code\\inundation-mapping. Skipping clone.\n",
      "Data for HUC 12070205\n",
      "Copied the C:\\Users\\adeba\\OneDrive\\Documents\\Datascience\\Hydrology\\Jupyter_lab\\Water_institute\\CIROH-DEVCON-2025\\CIROH-DEVCON\\CIROH-DEVCON\\output\\flood_12070205\\12070205\\branch_ids.csv to C:\\Users\\adeba\\OneDrive\\Documents\\Datascience\\Hydrology\\Jupyter_lab\\Water_institute\\CIROH-DEVCON-2025\\CIROH-DEVCON\\CIROH-DEVCON\\output\\flood_12070205\\fim_inputs.csv as fim_inputs.csv.\n",
      "Unique feature IDs saved to C:\\Users\\adeba\\OneDrive\\Documents\\Datascience\\Hydrology\\Jupyter_lab\\Water_institute\\CIROH-DEVCON-2025\\CIROH-DEVCON\\CIROH-DEVCON\\output\\flood_12070205\\feature_IDs.csv.\n",
      "Repository already exists at C:\\Users\\adeba\\OneDrive\\Documents\\Datascience\\Hydrology\\Jupyter_lab\\Water_institute\\CIROH-DEVCON-2025\\CIROH-DEVCON\\CIROH-DEVCON\\code\\inundation-mapping. Skipping clone.\n",
      "Data for HUC 12090205\n",
      "Copied the C:\\Users\\adeba\\OneDrive\\Documents\\Datascience\\Hydrology\\Jupyter_lab\\Water_institute\\CIROH-DEVCON-2025\\CIROH-DEVCON\\CIROH-DEVCON\\output\\flood_12090205\\12090205\\branch_ids.csv to C:\\Users\\adeba\\OneDrive\\Documents\\Datascience\\Hydrology\\Jupyter_lab\\Water_institute\\CIROH-DEVCON-2025\\CIROH-DEVCON\\CIROH-DEVCON\\output\\flood_12090205\\fim_inputs.csv as fim_inputs.csv.\n",
      "Unique feature IDs saved to C:\\Users\\adeba\\OneDrive\\Documents\\Datascience\\Hydrology\\Jupyter_lab\\Water_institute\\CIROH-DEVCON-2025\\CIROH-DEVCON\\CIROH-DEVCON\\output\\flood_12090205\\feature_IDs.csv.\n",
      "Repository already exists at C:\\Users\\adeba\\OneDrive\\Documents\\Datascience\\Hydrology\\Jupyter_lab\\Water_institute\\CIROH-DEVCON-2025\\CIROH-DEVCON\\CIROH-DEVCON\\code\\inundation-mapping. Skipping clone.\n",
      "Data for HUC 12090206\n",
      "Copied the C:\\Users\\adeba\\OneDrive\\Documents\\Datascience\\Hydrology\\Jupyter_lab\\Water_institute\\CIROH-DEVCON-2025\\CIROH-DEVCON\\CIROH-DEVCON\\output\\flood_12090206\\12090206\\branch_ids.csv to C:\\Users\\adeba\\OneDrive\\Documents\\Datascience\\Hydrology\\Jupyter_lab\\Water_institute\\CIROH-DEVCON-2025\\CIROH-DEVCON\\CIROH-DEVCON\\output\\flood_12090206\\fim_inputs.csv as fim_inputs.csv.\n",
      "Unique feature IDs saved to C:\\Users\\adeba\\OneDrive\\Documents\\Datascience\\Hydrology\\Jupyter_lab\\Water_institute\\CIROH-DEVCON-2025\\CIROH-DEVCON\\CIROH-DEVCON\\output\\flood_12090206\\feature_IDs.csv.\n",
      "Repository already exists at C:\\Users\\adeba\\OneDrive\\Documents\\Datascience\\Hydrology\\Jupyter_lab\\Water_institute\\CIROH-DEVCON-2025\\CIROH-DEVCON\\CIROH-DEVCON\\code\\inundation-mapping. Skipping clone.\n",
      "Data for HUC 12090301\n",
      "Copied the C:\\Users\\adeba\\OneDrive\\Documents\\Datascience\\Hydrology\\Jupyter_lab\\Water_institute\\CIROH-DEVCON-2025\\CIROH-DEVCON\\CIROH-DEVCON\\output\\flood_12090301\\12090301\\branch_ids.csv to C:\\Users\\adeba\\OneDrive\\Documents\\Datascience\\Hydrology\\Jupyter_lab\\Water_institute\\CIROH-DEVCON-2025\\CIROH-DEVCON\\CIROH-DEVCON\\output\\flood_12090301\\fim_inputs.csv as fim_inputs.csv.\n",
      "Unique feature IDs saved to C:\\Users\\adeba\\OneDrive\\Documents\\Datascience\\Hydrology\\Jupyter_lab\\Water_institute\\CIROH-DEVCON-2025\\CIROH-DEVCON\\CIROH-DEVCON\\output\\flood_12090301\\feature_IDs.csv.\n",
      "Repository already exists at C:\\Users\\adeba\\OneDrive\\Documents\\Datascience\\Hydrology\\Jupyter_lab\\Water_institute\\CIROH-DEVCON-2025\\CIROH-DEVCON\\CIROH-DEVCON\\code\\inundation-mapping. Skipping clone.\n",
      "Data for HUC 12100203\n",
      "Copied the C:\\Users\\adeba\\OneDrive\\Documents\\Datascience\\Hydrology\\Jupyter_lab\\Water_institute\\CIROH-DEVCON-2025\\CIROH-DEVCON\\CIROH-DEVCON\\output\\flood_12100203\\12100203\\branch_ids.csv to C:\\Users\\adeba\\OneDrive\\Documents\\Datascience\\Hydrology\\Jupyter_lab\\Water_institute\\CIROH-DEVCON-2025\\CIROH-DEVCON\\CIROH-DEVCON\\output\\flood_12100203\\fim_inputs.csv as fim_inputs.csv.\n",
      "Unique feature IDs saved to C:\\Users\\adeba\\OneDrive\\Documents\\Datascience\\Hydrology\\Jupyter_lab\\Water_institute\\CIROH-DEVCON-2025\\CIROH-DEVCON\\CIROH-DEVCON\\output\\flood_12100203\\feature_IDs.csv.\n"
     ]
    }
   ],
   "source": [
    "for i in huc_list:\n",
    "     fm.DownloadHUC8(i)"
   ]
  },
  {
   "cell_type": "code",
   "execution_count": 4,
   "id": "068ad204-a7ec-4c8d-994e-b7c64707f22c",
   "metadata": {},
   "outputs": [
    {
     "data": {
      "text/html": [
       "\n",
       "            <style>\n",
       "                .geemap-dark {\n",
       "                    --jp-widgets-color: white;\n",
       "                    --jp-widgets-label-color: white;\n",
       "                    --jp-ui-font-color1: white;\n",
       "                    --jp-layout-color2: #454545;\n",
       "                    background-color: #383838;\n",
       "                }\n",
       "\n",
       "                .geemap-dark .jupyter-button {\n",
       "                    --jp-layout-color3: #383838;\n",
       "                }\n",
       "\n",
       "                .geemap-colab {\n",
       "                    background-color: var(--colab-primary-surface-color, white);\n",
       "                }\n",
       "\n",
       "                .geemap-colab .jupyter-button {\n",
       "                    --jp-layout-color3: var(--colab-primary-surface-color, white);\n",
       "                }\n",
       "            </style>\n",
       "            "
      ],
      "text/plain": [
       "<IPython.core.display.HTML object>"
      ]
     },
     "metadata": {},
     "output_type": "display_data"
    }
   ],
   "source": [
    "from datetime import datetime, timedelta\n",
    "\n",
    "def call_list(Date=\"2025-05-01\", Time=\"09:00:00\", length= 13):\n",
    "    start_dt = datetime.strptime(f\"{Date} {Time}\", \"%Y-%m-%d %H:%M:%S\")\n",
    "    value_times = [(start_dt + timedelta(hours=i)).strftime(\"%Y-%m-%d %H:%M:%S\") for i in range(length)]\n",
    "    return value_times\n",
    "\n",
    "given_value_times = call_list(Date=\"2025-06-23\", Time=\"20:00:00\")"
   ]
  },
  {
   "cell_type": "code",
   "execution_count": null,
   "id": "4f9da1c4-b70b-4986-906b-330d371c5bb0",
   "metadata": {},
   "outputs": [],
   "source": []
  },
  {
   "cell_type": "code",
   "execution_count": 5,
   "id": "d94d2a44-a6fe-4526-880d-59af0bd39522",
   "metadata": {},
   "outputs": [
    {
     "data": {
      "text/html": [
       "\n",
       "            <style>\n",
       "                .geemap-dark {\n",
       "                    --jp-widgets-color: white;\n",
       "                    --jp-widgets-label-color: white;\n",
       "                    --jp-ui-font-color1: white;\n",
       "                    --jp-layout-color2: #454545;\n",
       "                    background-color: #383838;\n",
       "                }\n",
       "\n",
       "                .geemap-dark .jupyter-button {\n",
       "                    --jp-layout-color3: #383838;\n",
       "                }\n",
       "\n",
       "                .geemap-colab {\n",
       "                    background-color: var(--colab-primary-surface-color, white);\n",
       "                }\n",
       "\n",
       "                .geemap-colab .jupyter-button {\n",
       "                    --jp-layout-color3: var(--colab-primary-surface-color, white);\n",
       "                }\n",
       "            </style>\n",
       "            "
      ],
      "text/plain": [
       "<IPython.core.display.HTML object>"
      ]
     },
     "metadata": {},
     "output_type": "display_data"
    }
   ],
   "source": [
    "huc_event_dict = {huc_list[0]:given_value_times, huc_list[1]:given_value_times, huc_list[2]:given_value_times,huc_list[3]:given_value_times, huc_list[4]:given_value_times    \n",
    "}"
   ]
  },
  {
   "cell_type": "code",
   "execution_count": 6,
   "id": "be4bfac1-8ce9-48d1-ba84-b1d7ce30e629",
   "metadata": {},
   "outputs": [
    {
     "data": {
      "text/html": [
       "\n",
       "            <style>\n",
       "                .geemap-dark {\n",
       "                    --jp-widgets-color: white;\n",
       "                    --jp-widgets-label-color: white;\n",
       "                    --jp-ui-font-color1: white;\n",
       "                    --jp-layout-color2: #454545;\n",
       "                    background-color: #383838;\n",
       "                }\n",
       "\n",
       "                .geemap-dark .jupyter-button {\n",
       "                    --jp-layout-color3: #383838;\n",
       "                }\n",
       "\n",
       "                .geemap-colab {\n",
       "                    background-color: var(--colab-primary-surface-color, white);\n",
       "                }\n",
       "\n",
       "                .geemap-colab .jupyter-button {\n",
       "                    --jp-layout-color3: var(--colab-primary-surface-color, white);\n",
       "                }\n",
       "            </style>\n",
       "            "
      ],
      "text/plain": [
       "<IPython.core.display.HTML object>"
      ]
     },
     "metadata": {},
     "output_type": "display_data"
    },
    {
     "data": {
      "text/plain": [
       "{'12070205': ['2025-06-23 20:00:00',\n",
       "  '2025-06-23 21:00:00',\n",
       "  '2025-06-23 22:00:00',\n",
       "  '2025-06-23 23:00:00',\n",
       "  '2025-06-24 00:00:00',\n",
       "  '2025-06-24 01:00:00',\n",
       "  '2025-06-24 02:00:00',\n",
       "  '2025-06-24 03:00:00',\n",
       "  '2025-06-24 04:00:00',\n",
       "  '2025-06-24 05:00:00',\n",
       "  '2025-06-24 06:00:00',\n",
       "  '2025-06-24 07:00:00',\n",
       "  '2025-06-24 08:00:00'],\n",
       " '12090205': ['2025-06-23 20:00:00',\n",
       "  '2025-06-23 21:00:00',\n",
       "  '2025-06-23 22:00:00',\n",
       "  '2025-06-23 23:00:00',\n",
       "  '2025-06-24 00:00:00',\n",
       "  '2025-06-24 01:00:00',\n",
       "  '2025-06-24 02:00:00',\n",
       "  '2025-06-24 03:00:00',\n",
       "  '2025-06-24 04:00:00',\n",
       "  '2025-06-24 05:00:00',\n",
       "  '2025-06-24 06:00:00',\n",
       "  '2025-06-24 07:00:00',\n",
       "  '2025-06-24 08:00:00'],\n",
       " '12090206': ['2025-06-23 20:00:00',\n",
       "  '2025-06-23 21:00:00',\n",
       "  '2025-06-23 22:00:00',\n",
       "  '2025-06-23 23:00:00',\n",
       "  '2025-06-24 00:00:00',\n",
       "  '2025-06-24 01:00:00',\n",
       "  '2025-06-24 02:00:00',\n",
       "  '2025-06-24 03:00:00',\n",
       "  '2025-06-24 04:00:00',\n",
       "  '2025-06-24 05:00:00',\n",
       "  '2025-06-24 06:00:00',\n",
       "  '2025-06-24 07:00:00',\n",
       "  '2025-06-24 08:00:00'],\n",
       " '12090301': ['2025-06-23 20:00:00',\n",
       "  '2025-06-23 21:00:00',\n",
       "  '2025-06-23 22:00:00',\n",
       "  '2025-06-23 23:00:00',\n",
       "  '2025-06-24 00:00:00',\n",
       "  '2025-06-24 01:00:00',\n",
       "  '2025-06-24 02:00:00',\n",
       "  '2025-06-24 03:00:00',\n",
       "  '2025-06-24 04:00:00',\n",
       "  '2025-06-24 05:00:00',\n",
       "  '2025-06-24 06:00:00',\n",
       "  '2025-06-24 07:00:00',\n",
       "  '2025-06-24 08:00:00'],\n",
       " '12100203': ['2025-06-23 20:00:00',\n",
       "  '2025-06-23 21:00:00',\n",
       "  '2025-06-23 22:00:00',\n",
       "  '2025-06-23 23:00:00',\n",
       "  '2025-06-24 00:00:00',\n",
       "  '2025-06-24 01:00:00',\n",
       "  '2025-06-24 02:00:00',\n",
       "  '2025-06-24 03:00:00',\n",
       "  '2025-06-24 04:00:00',\n",
       "  '2025-06-24 05:00:00',\n",
       "  '2025-06-24 06:00:00',\n",
       "  '2025-06-24 07:00:00',\n",
       "  '2025-06-24 08:00:00']}"
      ]
     },
     "execution_count": 6,
     "metadata": {},
     "output_type": "execute_result"
    }
   ],
   "source": [
    "huc_event_dict"
   ]
  },
  {
   "cell_type": "markdown",
   "id": "22cb1482-d883-43a2-9903-6737965c671f",
   "metadata": {},
   "source": [
    "fm.getNWMretrospectivedata(huc_event_dict=)\n",
    "\n",
    "(huc_event_dict= huc_event_dict)"
   ]
  },
  {
   "cell_type": "code",
   "execution_count": 8,
   "id": "56fec1c4-02fe-488e-9267-778447f49b4d",
   "metadata": {},
   "outputs": [
    {
     "data": {
      "text/html": [
       "\n",
       "            <style>\n",
       "                .geemap-dark {\n",
       "                    --jp-widgets-color: white;\n",
       "                    --jp-widgets-label-color: white;\n",
       "                    --jp-ui-font-color1: white;\n",
       "                    --jp-layout-color2: #454545;\n",
       "                    background-color: #383838;\n",
       "                }\n",
       "\n",
       "                .geemap-dark .jupyter-button {\n",
       "                    --jp-layout-color3: #383838;\n",
       "                }\n",
       "\n",
       "                .geemap-colab {\n",
       "                    background-color: var(--colab-primary-surface-color, white);\n",
       "                }\n",
       "\n",
       "                .geemap-colab .jupyter-button {\n",
       "                    --jp-layout-color3: var(--colab-primary-surface-color, white);\n",
       "                }\n",
       "            </style>\n",
       "            "
      ],
      "text/plain": [
       "<IPython.core.display.HTML object>"
      ]
     },
     "metadata": {},
     "output_type": "display_data"
    },
    {
     "name": "stdout",
     "output_type": "stream",
     "text": [
      "Downloading forecast data for 20250623 at 06Z\n",
      "The final discharge values saved to C:\\Users\\adeba\\OneDrive\\Documents\\Datascience\\Hydrology\\Jupyter_lab\\Water_institute\\CIROH-DEVCON-2025\\CIROH-DEVCON\\CIROH-DEVCON\\data\\inputs\n",
      "Error removing CSV files directory: [WinError 5] Access is denied: 'C:\\\\Users\\\\adeba\\\\OneDrive\\\\Documents\\\\Datascience\\\\Hydrology\\\\Jupyter_lab\\\\Water_institute\\\\CIROH-DEVCON-2025\\\\CIROH-DEVCON\\\\CIROH-DEVCON\\\\output\\\\flood_12070205\\\\discharge\\\\shortrange_forecast\\\\csvFiles\\\\mergedAndSorted'\n",
      "Downloading forecast data for 20250623 at 07Z\n"
     ]
    },
    {
     "ename": "FileExistsError",
     "evalue": "[WinError 183] Cannot create a file when that file already exists: 'C:\\\\Users\\\\adeba\\\\OneDrive\\\\Documents\\\\Datascience\\\\Hydrology\\\\Jupyter_lab\\\\Water_institute\\\\CIROH-DEVCON-2025\\\\CIROH-DEVCON\\\\CIROH-DEVCON\\\\output\\\\flood_12070205\\\\discharge\\\\shortrange_forecast\\\\csvFiles\\\\nwm.t07z.short_range.channel_rt.f001.conus.csv' -> 'C:\\\\Users\\\\adeba\\\\OneDrive\\\\Documents\\\\Datascience\\\\Hydrology\\\\Jupyter_lab\\\\Water_institute\\\\CIROH-DEVCON-2025\\\\CIROH-DEVCON\\\\CIROH-DEVCON\\\\data\\\\inputs\\\\shortrange_12070205_20250623_08UTC.csv'",
     "output_type": "error",
     "traceback": [
      "\u001b[1;31m---------------------------------------------------------------------------\u001b[0m",
      "\u001b[1;31mFileExistsError\u001b[0m                           Traceback (most recent call last)",
      "Cell \u001b[1;32mIn[8], line 8\u001b[0m\n\u001b[0;32m      6\u001b[0m \u001b[38;5;28;01mfor\u001b[39;00m huc \u001b[38;5;129;01min\u001b[39;00m huc_list:\n\u001b[0;32m      7\u001b[0m     \u001b[38;5;28;01mfor\u001b[39;00m hour \u001b[38;5;129;01min\u001b[39;00m \u001b[38;5;28mrange\u001b[39m(start_time, start_time \u001b[38;5;241m+\u001b[39m forecast_length):\n\u001b[1;32m----> 8\u001b[0m         \u001b[43mfm\u001b[49m\u001b[38;5;241;43m.\u001b[39;49m\u001b[43mgetNWMForecasteddata\u001b[49m\u001b[43m(\u001b[49m\n\u001b[0;32m      9\u001b[0m \u001b[43m            \u001b[49m\u001b[43mhuc\u001b[49m\u001b[43m,\u001b[49m\n\u001b[0;32m     10\u001b[0m \u001b[43m            \u001b[49m\u001b[43mforecast_range\u001b[49m\u001b[38;5;241;43m=\u001b[39;49m\u001b[38;5;124;43m\"\u001b[39;49m\u001b[38;5;124;43mshortrange\u001b[39;49m\u001b[38;5;124;43m\"\u001b[39;49m\u001b[43m,\u001b[49m\n\u001b[0;32m     11\u001b[0m \u001b[43m            \u001b[49m\u001b[43mforecast_date\u001b[49m\u001b[38;5;241;43m=\u001b[39;49m\u001b[43mstart_date\u001b[49m\u001b[43m,\u001b[49m\n\u001b[0;32m     12\u001b[0m \u001b[43m            \u001b[49m\u001b[43mhour\u001b[49m\u001b[38;5;241;43m=\u001b[39;49m\u001b[43mhour\u001b[49m\n\u001b[0;32m     13\u001b[0m \u001b[43m        \u001b[49m\u001b[43m)\u001b[49m\n",
      "File \u001b[1;32m~\\anaconda3\\envs\\cirohdevcon\\lib\\site-packages\\fimserve\\streamflowdata\\forecasteddata.py:312\u001b[0m, in \u001b[0;36mgetNWMForecasteddata\u001b[1;34m(huc, forecast_range, forecast_date, hour, sort_by)\u001b[0m\n\u001b[0;32m    310\u001b[0m     os\u001b[38;5;241m.\u001b[39mmakedirs(download_dir)\n\u001b[0;32m    311\u001b[0m featureIDs \u001b[38;5;241m=\u001b[39m Path(output_dir, \u001b[38;5;124mf\u001b[39m\u001b[38;5;124m\"\u001b[39m\u001b[38;5;124mflood_\u001b[39m\u001b[38;5;132;01m{\u001b[39;00mhuc\u001b[38;5;132;01m}\u001b[39;00m\u001b[38;5;124m\"\u001b[39m, \u001b[38;5;124m\"\u001b[39m\u001b[38;5;124mfeature_IDs.csv\u001b[39m\u001b[38;5;124m\"\u001b[39m)\n\u001b[1;32m--> 312\u001b[0m \u001b[43mmain\u001b[49m\u001b[43m(\u001b[49m\n\u001b[0;32m    313\u001b[0m \u001b[43m    \u001b[49m\u001b[43mdownload_dir\u001b[49m\u001b[43m,\u001b[49m\n\u001b[0;32m    314\u001b[0m \u001b[43m    \u001b[49m\u001b[43mfeatureIDs\u001b[49m\u001b[43m,\u001b[49m\n\u001b[0;32m    315\u001b[0m \u001b[43m    \u001b[49m\u001b[43mhuc\u001b[49m\u001b[43m,\u001b[49m\n\u001b[0;32m    316\u001b[0m \u001b[43m    \u001b[49m\u001b[43mdata_dir\u001b[49m\u001b[43m,\u001b[49m\n\u001b[0;32m    317\u001b[0m \u001b[43m    \u001b[49m\u001b[43moutput_dir\u001b[49m\u001b[43m,\u001b[49m\n\u001b[0;32m    318\u001b[0m \u001b[43m    \u001b[49m\u001b[43mforecast_range\u001b[49m\u001b[43m,\u001b[49m\n\u001b[0;32m    319\u001b[0m \u001b[43m    \u001b[49m\u001b[43mforecast_date\u001b[49m\u001b[43m,\u001b[49m\n\u001b[0;32m    320\u001b[0m \u001b[43m    \u001b[49m\u001b[43mhour\u001b[49m\u001b[43m,\u001b[49m\n\u001b[0;32m    321\u001b[0m \u001b[43m    \u001b[49m\u001b[43msort_by\u001b[49m\u001b[43m,\u001b[49m\n\u001b[0;32m    322\u001b[0m \u001b[43m\u001b[49m\u001b[43m)\u001b[49m\n",
      "File \u001b[1;32m~\\anaconda3\\envs\\cirohdevcon\\lib\\site-packages\\fimserve\\streamflowdata\\forecasteddata.py:292\u001b[0m, in \u001b[0;36mmain\u001b[1;34m(download_dir, output_csv_filename, HUC, data_dir, output_dir, forecast_range, forecast_date, hour, sort_by, url_base)\u001b[0m\n\u001b[0;32m    286\u001b[0m \u001b[38;5;66;03m# Merge and sort the csv data in daily basis for long range and medium range where as gives hourly streamflow for short range\u001b[39;00m\n\u001b[0;32m    287\u001b[0m \u001b[38;5;28;01mif\u001b[39;00m (\n\u001b[0;32m    288\u001b[0m     forecast_range \u001b[38;5;241m==\u001b[39m \u001b[38;5;124m\"\u001b[39m\u001b[38;5;124mlongrange\u001b[39m\u001b[38;5;124m\"\u001b[39m\n\u001b[0;32m    289\u001b[0m     \u001b[38;5;129;01mor\u001b[39;00m forecast_range \u001b[38;5;241m==\u001b[39m \u001b[38;5;124m\"\u001b[39m\u001b[38;5;124mmediumrange\u001b[39m\u001b[38;5;124m\"\u001b[39m\n\u001b[0;32m    290\u001b[0m     \u001b[38;5;129;01mor\u001b[39;00m forecast_range \u001b[38;5;241m==\u001b[39m \u001b[38;5;124m\"\u001b[39m\u001b[38;5;124mshortrange\u001b[39m\u001b[38;5;124m\"\u001b[39m\n\u001b[0;32m    291\u001b[0m ):\n\u001b[1;32m--> 292\u001b[0m     \u001b[43mProcessForecasts\u001b[49m\u001b[43m(\u001b[49m\n\u001b[0;32m    293\u001b[0m \u001b[43m        \u001b[49m\u001b[43mCSVFILES\u001b[49m\u001b[43m,\u001b[49m\u001b[43m \u001b[49m\u001b[43mforecast_date\u001b[49m\u001b[43m,\u001b[49m\u001b[43m \u001b[49m\u001b[43mhour\u001b[49m\u001b[43m,\u001b[49m\u001b[43m \u001b[49m\u001b[43mforecast_range\u001b[49m\u001b[43m,\u001b[49m\u001b[43m \u001b[49m\u001b[43msort_by\u001b[49m\u001b[43m,\u001b[49m\u001b[43m \u001b[49m\u001b[43mdata_dir\u001b[49m\u001b[43m,\u001b[49m\u001b[43m \u001b[49m\u001b[43mHUC\u001b[49m\n\u001b[0;32m    294\u001b[0m \u001b[43m    \u001b[49m\u001b[43m)\u001b[49m\n\u001b[0;32m    295\u001b[0m     \u001b[38;5;28mprint\u001b[39m(\u001b[38;5;124mf\u001b[39m\u001b[38;5;124m\"\u001b[39m\u001b[38;5;124mThe final discharge values saved to \u001b[39m\u001b[38;5;132;01m{\u001b[39;00mdata_dir\u001b[38;5;132;01m}\u001b[39;00m\u001b[38;5;124m\"\u001b[39m)\n\u001b[0;32m    296\u001b[0m     \u001b[38;5;28;01mtry\u001b[39;00m:\n",
      "File \u001b[1;32m~\\anaconda3\\envs\\cirohdevcon\\lib\\site-packages\\fimserve\\streamflowdata\\forecasteddata.py:181\u001b[0m, in \u001b[0;36mProcessForecasts\u001b[1;34m(CSVFILES, forecast_date, hour, forecast_range, sort_by, data_dir, huc)\u001b[0m\n\u001b[0;32m    179\u001b[0m             sorted_file_path \u001b[38;5;241m=\u001b[39m os\u001b[38;5;241m.\u001b[39mpath\u001b[38;5;241m.\u001b[39mjoin(data_dir, sorted_file_name)\n\u001b[0;32m    180\u001b[0m             original_file_path \u001b[38;5;241m=\u001b[39m os\u001b[38;5;241m.\u001b[39mpath\u001b[38;5;241m.\u001b[39mjoin(CSVFILES, csv_file)\n\u001b[1;32m--> 181\u001b[0m             \u001b[43mos\u001b[49m\u001b[38;5;241;43m.\u001b[39;49m\u001b[43mrename\u001b[49m\u001b[43m(\u001b[49m\u001b[43moriginal_file_path\u001b[49m\u001b[43m,\u001b[49m\u001b[43m \u001b[49m\u001b[43msorted_file_path\u001b[49m\u001b[43m)\u001b[49m\n\u001b[0;32m    182\u001b[0m     \u001b[38;5;28;01mreturn\u001b[39;00m\n\u001b[0;32m    184\u001b[0m \u001b[38;5;66;03m# Calculating the day offset based on the forecast hour\u001b[39;00m\n",
      "\u001b[1;31mFileExistsError\u001b[0m: [WinError 183] Cannot create a file when that file already exists: 'C:\\\\Users\\\\adeba\\\\OneDrive\\\\Documents\\\\Datascience\\\\Hydrology\\\\Jupyter_lab\\\\Water_institute\\\\CIROH-DEVCON-2025\\\\CIROH-DEVCON\\\\CIROH-DEVCON\\\\output\\\\flood_12070205\\\\discharge\\\\shortrange_forecast\\\\csvFiles\\\\nwm.t07z.short_range.channel_rt.f001.conus.csv' -> 'C:\\\\Users\\\\adeba\\\\OneDrive\\\\Documents\\\\Datascience\\\\Hydrology\\\\Jupyter_lab\\\\Water_institute\\\\CIROH-DEVCON-2025\\\\CIROH-DEVCON\\\\CIROH-DEVCON\\\\data\\\\inputs\\\\shortrange_12070205_20250623_08UTC.csv'"
     ]
    }
   ],
   "source": [
    "start_date = \"2025-06-23\"\n",
    "start_time = 6\n",
    "forecast_length = 12  # means from hour 6 to 17 (inclusive)\n",
    "\n",
    "\n",
    "for huc in huc_list:\n",
    "    for hour in range(start_time, start_time + forecast_length):\n",
    "        fm.getNWMForecasteddata(\n",
    "            huc,\n",
    "            forecast_range=\"shortrange\",\n",
    "            forecast_date=start_date,\n",
    "            hour=hour\n",
    "        )\n"
   ]
  },
  {
   "cell_type": "code",
   "execution_count": null,
   "id": "b20c58ce-e7d0-4cac-8409-5eac6416091f",
   "metadata": {},
   "outputs": [],
   "source": [
    "for each_huc in huc_list:\n",
    "    fm.runOWPHANDFIM(each_huc)"
   ]
  }
 ],
 "metadata": {
  "kernelspec": {
   "display_name": "Python 3 (ipykernel)",
   "language": "python",
   "name": "python3"
  },
  "language_info": {
   "codemirror_mode": {
    "name": "ipython",
    "version": 3
   },
   "file_extension": ".py",
   "mimetype": "text/x-python",
   "name": "python",
   "nbconvert_exporter": "python",
   "pygments_lexer": "ipython3",
   "version": "3.10.0"
  }
 },
 "nbformat": 4,
 "nbformat_minor": 5
}
