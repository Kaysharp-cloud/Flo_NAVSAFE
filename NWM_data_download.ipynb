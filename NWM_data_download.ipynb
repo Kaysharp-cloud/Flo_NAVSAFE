{
 "cells": [
  {
   "cell_type": "code",
   "execution_count": 1,
   "id": "15c04f4e-3208-48d9-a655-15c78b532870",
   "metadata": {
    "tags": []
   },
   "outputs": [],
   "source": [
    "#This Notebook is for data download from NWM\n"
   ]
  }
 ],
 "metadata": {
  "kernelspec": {
   "display_name": "Python 3 (ipykernel)",
   "language": "python",
   "name": "python3"
  },
  "language_info": {
   "codemirror_mode": {
    "name": "ipython",
    "version": 3
   },
   "file_extension": ".py",
   "mimetype": "text/x-python",
   "name": "python",
   "nbconvert_exporter": "python",
   "pygments_lexer": "ipython3",
   "version": "3.11.5"
  }
 },
 "nbformat": 4,
 "nbformat_minor": 5
}
